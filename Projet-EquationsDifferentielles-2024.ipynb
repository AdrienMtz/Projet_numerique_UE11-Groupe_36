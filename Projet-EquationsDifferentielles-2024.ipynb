{
 "cells": [
  {
   "cell_type": "code",
   "execution_count": 2,
   "metadata": {},
   "outputs": [],
   "source": [
    "import numpy as np \n",
    "import matplotlib.pyplot as plt\n",
    "import matplotlib.animation as animation\n",
    "from mpl_toolkits.mplot3d import Axes3D\n",
    "#%matplotlib notebook\n",
    "plt.rcParams[\"figure.figsize\"] = (14,7)"
   ]
  },
  {
   "cell_type": "markdown",
   "metadata": {},
   "source": [
    "Contrôle de spin sur la sphère\n",
    "==============================\n",
    "\n",
    "\n",
    "On s'intéresse au contrôle de l'orientation d'un spin dans un champ magnétique, problème que l'on rencontre dans diverses applications comme l'imagerie médicale (IRM) ou l'ordinateur quantique. \n",
    "Un spin (ou qubit en informatique quantique) peut se représenter par un vecteur $\\psi \\in  \\mathbb{R}^3$ de la sphère (*sphère de Bloch*)\n",
    "$$\n",
    "S^2= \\{ (x,y,z)\\in \\mathbb{R}^3 \\mid x^2+y^2+z^2=1 \\} \n",
    "$$\n",
    "et on cherche à simuler son comportement lorsqu'il est placé dans un champ magnétique externe. Plus particulièrement, on voudrait simuler un *transfert de population*, c'est-à-dire un choix de champ magnétique permettant de faire passer une population de $p$ spins de la position initiale $-e_z = (0,0,-1)$ à la position finale $e_z=(0,0,1)$ en un temps $T$ donné. Les spins n'ayant pas tous exactement les mêmes propriétés de couplage avec le champ magnétique ambiant, il faut que ce transfert soit *robuste*, c'est-à-dire les amenant tous au voisinage de la cible malgré leur hétérogénéité.\n",
    "\n",
    "Notre système dynamique est donc composé de $p$ sous-systèmes indépendants $(\\psi_1,\\ldots,\\psi_i,\\ldots,\\psi_p)$, chacun évoluant selon\n",
    "$$ \n",
    "\\dot\\psi_i = r_i(t) \\wedge \\psi_i, \\qquad \\psi_i(0)\\in S^2 \\tag{1}, \\qquad i\\in\\{1,\\ldots, p \\}\n",
    "$$\n",
    "où $\\psi_i\\in \\mathbb{R}^3$ décrit l'orientation du spin $i$, $r_i(t)\\in \\mathbb{R}^3$ est le champ magnétique externe ``vu'' par le spin $i$ au temps $t$, et $\\wedge$ dénote le produit vectoriel. \n",
    "\n",
    "En pratique, on est souvent dans la situation suivante : un champ magnétique $E$ intense selon l'axe $Oz$ fixe, et un champ contrôlable $u(t)$, à choisir, selon l'axe $Ox$. Selon les propriétés de couplage magnétique de chaque spin, chaque spin reçoit alors le champ magnétique\n",
    "$$\n",
    "r_i(t)=(\\delta_i u(t),0,E_i)\n",
    "$$ \n",
    "avec $E_i\\in [E-\\alpha,E+\\alpha]$ et $\\delta_i \\in [\\delta_{\\min},\\delta_{\\max}]$, pour des paramètres $E, \\alpha, \\delta_{\\min},\\delta_{\\max}$ décrivant l'hétérogénité du système.\n",
    "\n",
    "Les paramètres $E_i$ et $\\delta_i$ de chaque spin étant inconnus, on cherche alors à effectuer un transfert de population *robuste*, c'est-à-dire assurant que tous les spins atteignent une orientation très proche de la cible $e_z$ malgré les incertitudes sur $E_i$ et $\\delta_i$ et se basant seulement sur la connaissance de leurs intervalles."
   ]
  },
  {
   "cell_type": "markdown",
   "metadata": {},
   "source": [
    "\n",
    "## Simulation du transfert d'un spin sur la sphère\n",
    "\n",
    "**Question 1** \n",
    "\n",
    "**1) a.** Justifier que toute solution du problème de Cauchy \n",
    "$$ \n",
    "\\dot\\psi = r(t) \\wedge \\psi, \\qquad \\psi(0)\\in S^2 \n",
    "$$\n",
    "reste sur la sphère $S^2$ en tous temps. "
   ]
  },
  {
   "cell_type": "markdown",
   "metadata": {},
   "source": [
    "**1) a.** Soit $\\psi$ une solution du problème de Cauchy suivant :\n",
    "$$ \n",
    "\\dot\\psi = r(t) \\wedge \\psi, \\qquad \\psi(0)\\in S^2 \n",
    "$$\n",
    "Alors $\\langle \\dot\\psi,\\psi\\rangle = \\langle r(t) \\wedge \\psi,\\psi\\rangle = 0$ donc $\\frac{1}{2} \\frac{{\\rm d}}{{\\rm d} t} (\\|\\psi\\|^2) = 0$ donc $\\|\\psi\\|$ est constante, égale à $\\|\\psi(0)\\| = 1$ (car $\\psi(0) \\in S^2$)."
   ]
  },
  {
   "cell_type": "markdown",
   "metadata": {},
   "source": [
    "On introduit les matrices anti-symétriques suivantes\n",
    "$$\\Omega_x=\\left(\\begin{matrix}\n",
    "0& 0 &0 \\\\\n",
    "0& 0 &-1 \\\\\n",
    "0& 1 &0 \\\\\n",
    "\\end{matrix}\\right), \\qquad \\Omega_y=\\left(\\begin{matrix}\n",
    "0& 0 &1 \\\\\n",
    "0& 0 &0 \\\\\n",
    "-1& 0 &0 \\\\\n",
    "\\end{matrix}\\right), \\qquad\n",
    "\\Omega_z=\\left(\\begin{matrix}\n",
    "0& -1 &0 \\\\\n",
    "1& 0 & 0 \\\\\n",
    "0& 0 &0 \\\\\n",
    "\\end{matrix}\\right). $$\n",
    "\n",
    "**1) b.** Vérifier que pour tout $(r_x,r_y,r_z)\\in \\mathbb{R}^3$ et $\\psi \\in \\mathbb{R}^3$, \n",
    "$$\n",
    "\\left(\\begin{matrix}\n",
    "r_x \\\\\n",
    "r_y \\\\\n",
    "r_z \\\\\n",
    "\\end{matrix}\\right) \\wedge \\psi = (r_x \\Omega_x+ r_y \\Omega_y +r_z \\Omega_z) \\psi\n",
    "$$\n",
    "c'est-à-dire que $\\Omega_x$ (resp. $\\Omega_y,\\Omega_z$)  est la représentation matricielle de l'application linéaire $\\psi \\mapsto e_x \\wedge \\psi$ (resp. $\\psi \\mapsto e_y \\wedge \\psi$, $\\psi \\mapsto e_z \\wedge \\psi$).\n",
    "\n",
    "L'équation $(1)$ se réécrit donc \n",
    "$$\n",
    "\\dot\\psi_i= (E_i \\Omega_z+ \\delta_i u(t) \\Omega_x )\\psi_i, \\qquad \\psi_i(0)\\in S^2 \\tag{2}\n",
    "$$\n",
    "c'est-à-dire sous forme d'une équation différentielle linéaire, décrite par une matrice $E_i \\Omega_z+ \\delta_i u(t) \\Omega_x$ dépendant du temps."
   ]
  },
  {
   "cell_type": "markdown",
   "metadata": {},
   "source": [
    "**1) b.** Soit $r = (r_x,r_y,r_z)\\in \\mathbb{R}^3$ et $\\psi = (\\psi_x, \\psi_y, \\psi_z) \\in \\mathbb{R}^3$.\n",
    "$$\n",
    "r \\wedge \\psi = \n",
    "\\left(\\begin{matrix}\n",
    "r_y\\psi_z - r_z\\psi_y \\\\\n",
    "r_z\\psi_x - r_x\\psi_z \\\\\n",
    "r_x\\psi_y - r_y\\psi_x\\\\\n",
    "\\end{matrix}\\right) = \n",
    "r_x \\left(\\begin{matrix} 0 \\\\ -\\psi_z \\\\ \\psi_y \\\\ \\end{matrix}\\right) + r_y \\left(\\begin{matrix} \\psi_z \\\\ 0 \\\\ -\\psi_x \\\\ \\end{matrix}\\right) + r_z \\left(\\begin{matrix} -\\psi_y \\\\ \\psi_x \\\\ 0 \\\\ \\end{matrix}\\right)\n",
    "$$\n",
    "Donc $r \\wedge \\psi = (r_x\\Omega_x + r_y\\Omega_y + r_z\\Omega_z)\\psi$ avec $\\Omega_x=\\left(\\begin{matrix}\n",
    "0& 0 &0 \\\\\n",
    "0& 0 &-1 \\\\\n",
    "0& 1 &0 \\\\\n",
    "\\end{matrix}\\right), \\qquad \\Omega_y=\\left(\\begin{matrix}\n",
    "0& 0 &1 \\\\\n",
    "0& 0 &0 \\\\\n",
    "-1& 0 &0 \\\\\n",
    "\\end{matrix}\\right), \\qquad\n",
    "\\Omega_z=\\left(\\begin{matrix}\n",
    "0& -1 &0 \\\\\n",
    "1& 0 & 0 \\\\\n",
    "0& 0 &0 \\\\\n",
    "\\end{matrix}\\right).$"
   ]
  },
  {
   "cell_type": "markdown",
   "metadata": {},
   "source": [
    "**Question 2** On cherche à simuler l'équation (2) numériquement, d'abord dans le cas où il y a un seul spin et sans incertitude, c'est-à-dire \n",
    "$$\n",
    "\\dot\\psi= (E \\Omega_z+ \\delta u(t) \\Omega_x )\\psi, \\qquad \\psi(0)=-e_z \\tag{3}\n",
    "$$\n",
    "avec $T=50$, $E=2$, $\\delta=1$ et la commande \n",
    "$$\n",
    "u(t)= (1-\\cos(2\\pi t/T))\\cos\\left(E t+ \\frac{\\sin(\\pi t/T)}{\\pi/T}\\right) \n",
    "$$\n",
    "\n",
    "**2a** Coder un schéma Euler explicite résolvant l'équation différentielle (3). Tracer l'évolution de la norme de $\\psi$. Interpréter.\n",
    "\n",
    "**2b** Même question avec un schéma Euler implicite.\n",
    "\n",
    "**2c** Proposer et coder un schéma qui reprojette l'état sur la sphère à chaque pas de temps. Comparer. Tracer la loi de contrôle $t\\mapsto u(t)$ et la trajectoire du spin $t\\mapsto \\psi(t)$ en 3D. Commenter."
   ]
  },
  {
   "cell_type": "code",
   "execution_count": 3,
   "metadata": {},
   "outputs": [
    {
     "data": {
      "text/plain": [
       "array([[14],\n",
       "       [15]])"
      ]
     },
     "execution_count": 3,
     "metadata": {},
     "output_type": "execute_result"
    }
   ],
   "source": [
    "A = np.array([[11, 3], [12, 3]])\n",
    "B = np.array([[1], [1]])\n",
    "A.dot(B)"
   ]
  },
  {
   "cell_type": "code",
   "execution_count": 24,
   "metadata": {},
   "outputs": [],
   "source": [
    "E=2\n",
    "delta=1 \n",
    "T=50\n",
    "u = lambda t: (1-np.cos(2*np.pi*t/T))*np.cos(E*t+ np.sin(np.pi *t/T)/(np.pi/T))\n",
    "psi_0=np.array([0,0,-1])\n",
    "dt=1e-3\n",
    "Omega_x=np.array([[0,0,0],[0,0,-1],[0,1,0]])\n",
    "Omega_z=np.array([[0,-1,0],[1,0,0],[0,0,0]])\n",
    "\n",
    "def euler_explicit(psi_0,t_0,t_f,E,delta,dt):\n",
    "    psi = [psi_0]\n",
    "    norme_psi = [np.linalg.norm(psi_0)]\n",
    "    tps = [t_0]\n",
    "    t = t_0\n",
    "    while t+dt<t_f :\n",
    "        psi.append(psi[-1] + dt*(E*Omega_z + u(t)*delta*Omega_x).dot(psi[-1]))\n",
    "        norme_psi.append(np.linalg.norm(psi[-1]))\n",
    "        t = t+dt\n",
    "        tps.append(t)\n",
    "    plt.plot(tps, norme_psi)\n",
    "    plt.xlabel('t')\n",
    "    plt.ylabel('Psi')\n",
    "    plt.show()\n",
    "    return None\n",
    "\n",
    "def euler_implicit(psi_0,t_0,t_f,E,delta,dt):\n",
    "    ...\n",
    "    return ...\n",
    "\n",
    "def euler_projet(psi_0,t_0,t_f,E,delta,dt):\n",
    "    ...\n",
    "    return ..."
   ]
  },
  {
   "cell_type": "code",
   "execution_count": 31,
   "metadata": {},
   "outputs": [
    {
     "data": {
      "image/png": "[encoded data removed]",
      "text/plain": [
       "<Figure size 1400x700 with 1 Axes>"
      ]
     },
     "metadata": {},
     "output_type": "display_data"
    }
   ],
   "source": [
    "euler_explicit(psi_0, 0, 100, E, delta, 0.0001)"
   ]
  },
  {
   "cell_type": "markdown",
   "metadata": {},
   "source": [
    "---\n",
    "**Vocabulaire // ouverture mathématique**\n",
    "\n",
    "$S^2$ est une surface dans $\\mathbb{R}^3$, c'est un cas particulier de **variété différentielle**. L'équation (2) assure que si $\\psi$ appartient à la variété, $\\dot \\psi$ appartient au **plan tangent** en $\\psi$ de $S^2$ et donc que $S^2$ est invariant par la dynamique. Pour des simulations en temps long sur des variétés il est souvent important de s'assurer que la dynamique discrete (celle du schéma numérique) reste exactement sur la variété (et non approximativement)\n",
    "\n",
    "---"
   ]
  },
  {
   "cell_type": "markdown",
   "metadata": {},
   "source": [
    "## Robustesse et simulation du transfert d'un ensemble de spins\n",
    "\n",
    "On considère maintenant un ensemble de $p$ spins évoluant chacun selon (2) mais avec différentes valeurs de $E_i \\in [E-\\alpha,E+\\alpha]$ et $\\delta_i \\in [\\delta_{\\min}, \\delta_{\\max}]$. On souhaite vérifier que le même contrôle $u$ fonctionne sur tous simultanément, c'est-à-dire évaluer sa robustesse.\n",
    "\n",
    "**Question 3**\n",
    "\n",
    "Simuler $p=10$ spins avec la méthode retenue ci-dessus, en faisant varier $E_i$ puis $\\delta_i$. Vérifier que pour $\\alpha = 0.5$, $\\delta_{\\min}= 0.4$ et $\\delta_{\\max}= 3.5$, la même loi de contrôle $u$ assure tout de même la transition de $-e_z$ à $e_z$ avec une excellente précision à évaluer."
   ]
  },
  {
   "cell_type": "markdown",
   "metadata": {},
   "source": [
    "---\n",
    "**Vocabulaire // ouverture mathématique et physique**\n",
    "\n",
    "Pour obtenir ce contrôle robuste, on utilise le théorème adiabatique ainsi qu'une approximation de l'onde tournante. On règle par exemple la bande de fréquence à parcourir en fonction de $\\alpha$ en prenant\n",
    "$$\n",
    "u(t)= (1-\\cos(2\\pi t/T))\\cos\\left(E t+ 2\\alpha\\frac{\\sin(\\pi t/T)}{\\pi/T}\\right) \n",
    "$$\n",
    "On pourra se référer à cet [article](https://www.sciencedirect.com/science/article/pii/S0022039622001401?via%3Dihub).\n",
    "\n",
    "---"
   ]
  },
  {
   "cell_type": "markdown",
   "metadata": {},
   "source": [
    "## Simulation de l'opérateur de flot\n",
    "\n",
    "Pour améliorer l'efficacité de la simulation numérique, on souhaite pouvoir utiliser plusieurs processeurs en parallèle. Pour cela, il est possible d'exploiter le caractère linéaire de l'équation différentielle et de calculer plutôt son opérateur de flot, c'est à dire à l'application $\\psi_0 \\mapsto \\psi(T)$ permettant de passer de la condition initiale à la solution de l'équation (3) au temps $T$. L'équation (3) étant linéaire, le flot de l'équation est une application linéaire, représentée par une matrice $U(T)\\in \\mathbb{R}^{3\\times 3}$ ici en dimension finie, obtenue en résolvant l'équation différentielle suivante :\n",
    "\n",
    "$$\\dot U = (E \\Omega_z+\\delta u(t) \\Omega_x ) U , \\qquad U(0)= I_3 \\tag{4}$$\n",
    "\n",
    "où $I_3$ dénote la matrice identité de dimension 3. On notera bien que $U(t)$ est une matrice réelle $3\\times 3$.\n",
    "\n",
    "---\n",
    "**Vocabulaire // ouverture mathématique**\n",
    "\n",
    "\n",
    "L'application linéaire $U(t)$ s'appelle **matrice de transition** entre les temps 0 et $t$ en dimension finie, et plus généralement **propagateur** en mécanique quantique, et **semigroupe** dans le cadre des équations aux dérivées partielles.\n",
    "\n",
    "---\n",
    "\n",
    "**Question 4** On cherche à résoudre numériquement l'équation (4).\n",
    "\n",
    "**4a** Vérifier que la connaissance de $U(t)$ permet de résoudre directement l'équation (3) car $\\psi(t) = U(t) \\psi_0$ pour tout $t\\in [0,T]$.\n",
    "\n",
    "**4b** Prouver que pour tout $t\\geq 0$, $U(t)^\\top U(t) = I_3$ et justifier que le determinant de $U$ reste égal à 1. \n",
    "\n",
    "On en déduit que $U(t)$ reste en tout temps une matrice de rotation. On rappelle que $SO_3$ dénote l'ensemble des matrices de rotation de dimension 3.\n",
    "\n",
    "**4c** (BONUS) Proposer une méthode de projection sur $SO_3$ et implémenter un schéma Euler avec cette projection. Indication : regarder [ici](https://en.wikipedia.org/wiki/Singular_value_decomposition#Nearest_orthogonal_matrix).\n",
    "\n",
    "**4d** Vérifier que pour toute matrice $A$ antisymétrique telle que $(I-A)$ est inversible, $(I+A)(I-A)^{-1}\\in SO_3$. En déduire que le schéma numérique suivant assure que $U^j$ reste dans $SO_3$ et vérifier qu'il est un schéma consistant d'ordre 1 pour l'équation différentielle (4):\n",
    "$$U^0= I_3, \\qquad U^{j+1}= \\left(I_3 + \\frac{\\Delta t}{2}(E \\Omega_z+\\delta u(t) \\Omega_x )\\right) \\left(I_3 - \\frac{\\Delta t}{2}(E \\Omega_z+\\delta u(t) \\Omega_x ) \\right)^{-1} U^j \\tag{5}$$\n",
    "On admettra pour cela que le développement limité $\\left(I_3 - \\Delta t M \\right)^{-1} = I_3 + \\Delta t M + O(\\Delta t^2)$ est valable en matriciel.\n",
    "\n",
    "**4e** Compléter ci-dessous l'implémentation du schéma de l'equation (5) et vérifier la solution obtenue pour $\\psi(T)$ si $\\psi(0)=-e_z$."
   ]
  },
  {
   "cell_type": "code",
   "execution_count": 3,
   "metadata": {},
   "outputs": [
    {
     "ename": "TypeError",
     "evalue": "float() argument must be a string or a real number, not 'ellipsis'",
     "output_type": "error",
     "traceback": [
      "\u001b[1;31m---------------------------------------------------------------------------\u001b[0m",
      "\u001b[1;31mTypeError\u001b[0m                                 Traceback (most recent call last)",
      "Cell \u001b[1;32mIn[3], line 12\u001b[0m\n\u001b[0;32m      9\u001b[0m         sol[j\u001b[38;5;241m+\u001b[39m\u001b[38;5;241m1\u001b[39m]\u001b[38;5;241m=\u001b[39m \u001b[38;5;241m.\u001b[39m\u001b[38;5;241m.\u001b[39m\u001b[38;5;241m.\u001b[39m\n\u001b[0;32m     10\u001b[0m     \u001b[38;5;28;01mreturn\u001b[39;00m temps,sol\n\u001b[1;32m---> 12\u001b[0m temps,sol_mat_trans \u001b[38;5;241m=\u001b[39m \u001b[43mmatrice_transition\u001b[49m\u001b[43m(\u001b[49m\u001b[38;5;241;43m0\u001b[39;49m\u001b[43m,\u001b[49m\u001b[43mT\u001b[49m\u001b[43m,\u001b[49m\u001b[43mE\u001b[49m\u001b[43m,\u001b[49m\u001b[43mdt\u001b[49m\u001b[43m)\u001b[49m\n\u001b[0;32m     14\u001b[0m fig \u001b[38;5;241m=\u001b[39m plt\u001b[38;5;241m.\u001b[39mfigure()\n\u001b[0;32m     15\u001b[0m ax \u001b[38;5;241m=\u001b[39m fig\u001b[38;5;241m.\u001b[39madd_subplot(\u001b[38;5;241m111\u001b[39m, projection\u001b[38;5;241m=\u001b[39m\u001b[38;5;124m'\u001b[39m\u001b[38;5;124m3d\u001b[39m\u001b[38;5;124m'\u001b[39m)\n",
      "Cell \u001b[1;32mIn[3], line 9\u001b[0m, in \u001b[0;36mmatrice_transition\u001b[1;34m(t_in, t_f, E, dt)\u001b[0m\n\u001b[0;32m      7\u001b[0m sol[\u001b[38;5;241m0\u001b[39m]\u001b[38;5;241m=\u001b[39mnp\u001b[38;5;241m.\u001b[39meye(\u001b[38;5;241m3\u001b[39m)\n\u001b[0;32m      8\u001b[0m \u001b[38;5;28;01mfor\u001b[39;00m j,t \u001b[38;5;129;01min\u001b[39;00m \u001b[38;5;28menumerate\u001b[39m(temps[:\u001b[38;5;241m-\u001b[39m\u001b[38;5;241m1\u001b[39m]):\n\u001b[1;32m----> 9\u001b[0m     \u001b[43msol\u001b[49m\u001b[43m[\u001b[49m\u001b[43mj\u001b[49m\u001b[38;5;241;43m+\u001b[39;49m\u001b[38;5;241;43m1\u001b[39;49m\u001b[43m]\u001b[49m\u001b[38;5;241m=\u001b[39m \u001b[38;5;241m.\u001b[39m\u001b[38;5;241m.\u001b[39m\u001b[38;5;241m.\u001b[39m\n\u001b[0;32m     10\u001b[0m \u001b[38;5;28;01mreturn\u001b[39;00m temps,sol\n",
      "\u001b[1;31mTypeError\u001b[0m: float() argument must be a string or a real number, not 'ellipsis'"
     ]
    }
   ],
   "source": [
    "I=np.eye(3)\n",
    "\n",
    "def matrice_transition(t_in,t_f,E,dt):\n",
    "    temps=np.arange(t_in,t_f+dt/2,dt)\n",
    "    N=len(temps)\n",
    "    sol=np.empty((N,3,3))\n",
    "    sol[0]=np.eye(3)\n",
    "    for j,t in enumerate(temps[:-1]):\n",
    "        sol[j+1]= ...\n",
    "    return temps,sol\n",
    "\n",
    "temps,sol_mat_trans = matrice_transition(0,T,E,dt)\n",
    "\n",
    "fig = plt.figure()\n",
    "ax = fig.add_subplot(111, projection='3d')\n",
    "ax.plot((sol_mat_trans@psi_0)[:,0],(sol_mat_trans@psi_0)[:,1],(sol_mat_trans@psi_0)[:,2])\n",
    "ax.set_title('Solution via (4)')\n",
    "\n",
    "fig, ax = fig.figure()\n",
    "ax.plot(temps, np.linalg.norm(np.einsum('nij,nkj-> nik',sol_mat_trans,sol_mat_trans)-I,axis=(1,2)),label='norm of U^T U -I_3 ')\n",
    "ax.legend()\n",
    "ax.set_title('Vérification de la préservation du groupe')\n",
    "\n",
    "print(f\"Valeur finale de psi : {sol_mat_trans[-1]@psi_0}\")"
   ]
  },
  {
   "cell_type": "markdown",
   "metadata": {},
   "source": [
    "---\n",
    "**Vocabulaire // ouverture mathématique**\n",
    "\n",
    "\n",
    "$SO_3$ est à la fois un groupe et une variété différentielle (avec une structure compatible avec les lois du groupe), c'est ce que l'on appelle un **groupe de Lie**. Les matrices $\\Omega_x,\\Omega_y,\\Omega_z$ jouent un rôle particulier et forment ce que l'on appelle (les générateurs de) l'**Algèbre de Lie** du groupe.\n",
    "\n",
    "Par ailleurs, le schéma proposé dans l'équation (4) est à la fois relié à la **transformation de Cayley** d'une matrice unitaire, et à une famille de schémas que l'on nomme **approximations de Padé**.\n",
    "\n",
    "\n",
    "---"
   ]
  },
  {
   "cell_type": "markdown",
   "metadata": {},
   "source": [
    "## BONUS : Parallélisation de la simulation de systèmes linéaires\n",
    "\n",
    "**Question 5** On suppose que l'on dispose de $N$ processeurs. Expliquer comment exploiter le calcul de la matrice de transition de la question précédente pour résoudre l'équation (2) de manière parallèle. Commenter le gain (ou non) en terme de temps d'exécution. "
   ]
  },
  {
   "cell_type": "markdown",
   "metadata": {},
   "source": [
    "---\n",
    "**Vocabulaire // ouverture mathématique**\n",
    "\n",
    "Lorsque l'équation n'est pas linéaire, paralléliser en temps la résolution d'une équation différentielle est un sujet difficile. Il est possible d'utiliser des méthodes  de type **Parareal**.\n",
    "\n",
    "---"
   ]
  }
 ],
 "metadata": {
  "kernelspec": {
   "display_name": "Python 3 (ipykernel)",
   "language": "python",
   "name": "python3"
  },
  "language_info": {
   "codemirror_mode": {
    "name": "ipython",
    "version": 3
   },
   "file_extension": ".py",
   "mimetype": "text/x-python",
   "name": "python",
   "nbconvert_exporter": "python",
   "pygments_lexer": "ipython3",
   "version": "3.12.4"
  }
 },
 "nbformat": 4,
 "nbformat_minor": 4
}
